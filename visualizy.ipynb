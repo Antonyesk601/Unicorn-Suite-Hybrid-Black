{
 "cells": [
  {
   "cell_type": "code",
   "execution_count": 7,
   "metadata": {},
   "outputs": [
    {
     "ename": "ModuleNotFoundError",
     "evalue": "No module named 'matplotlib'",
     "output_type": "error",
     "traceback": [
      "\u001b[0;31m---------------------------------------------------------------------------\u001b[0m",
      "\u001b[0;31mModuleNotFoundError\u001b[0m                       Traceback (most recent call last)",
      "Cell \u001b[0;32mIn[7], line 2\u001b[0m\n\u001b[1;32m      1\u001b[0m \u001b[38;5;28;01mimport\u001b[39;00m \u001b[38;5;21;01msys\u001b[39;00m\n\u001b[0;32m----> 2\u001b[0m \u001b[38;5;28;01mimport\u001b[39;00m \u001b[38;5;21;01mmatplotlib\u001b[39;00m\u001b[38;5;21;01m.\u001b[39;00m\u001b[38;5;21;01mpyplot\u001b[39;00m \u001b[38;5;28;01mas\u001b[39;00m \u001b[38;5;21;01mplt\u001b[39;00m\n\u001b[1;32m      3\u001b[0m \u001b[38;5;28;01mimport\u001b[39;00m \u001b[38;5;21;01mpandas\u001b[39;00m \u001b[38;5;28;01mas\u001b[39;00m \u001b[38;5;21;01mpd\u001b[39;00m\n\u001b[1;32m      4\u001b[0m \u001b[38;5;28;01mimport\u001b[39;00m \u001b[38;5;21;01mnumpy\u001b[39;00m \u001b[38;5;28;01mas\u001b[39;00m \u001b[38;5;21;01mnp\u001b[39;00m\n",
      "\u001b[0;31mModuleNotFoundError\u001b[0m: No module named 'matplotlib'"
     ]
    }
   ],
   "source": [
    "import sys\n",
    "import matplotlib.pyplot as plt\n",
    "import pandas as pd\n",
    "import numpy as np\n",
    "import mne"
   ]
  },
  {
   "cell_type": "code",
   "execution_count": null,
   "metadata": {},
   "outputs": [],
   "source": [
    "df = pd.read_csv(\"RecordedSessions/Antony-2024-03-16-11-37-59.csv\")\n",
    "df.head()"
   ]
  },
  {
   "cell_type": "code",
   "execution_count": null,
   "metadata": {},
   "outputs": [],
   "source": [
    "df.describe()"
   ]
  },
  {
   "cell_type": "code",
   "execution_count": null,
   "metadata": {},
   "outputs": [],
   "source": [
    "# df = pd.read_csv(\"UnicornRecorder_20240104_143245.csv\")\n",
    "# df.describe()"
   ]
  },
  {
   "cell_type": "code",
   "execution_count": null,
   "metadata": {},
   "outputs": [],
   "source": [
    "import numpy as np\n",
    "import pandas as pd\n",
    "import mne\n",
    "from mne.preprocessing import ICA\n",
    "from scipy.signal import butter, sosfiltfilt, iirnotch, lfilter\n",
    "\n",
    "def preprocess_eeg(df, sfreq, lowcut=0.5, highcut=30, notch_freq=50):\n",
    "    # Convert DataFrame to NumPy array if necessary\n",
    "    if isinstance(df, pd.DataFrame):\n",
    "        data = df.values\n",
    "    else:\n",
    "        data = df  # Assuming data is already a NumPy array\n",
    "\n",
    "    # Apply Bandpass Filter\n",
    "    sos = butter(N=5, Wn=[lowcut, highcut], btype='bandpass', fs=sfreq, output='sos')\n",
    "    filtered = sosfiltfilt(sos, data, axis=-1)\n",
    "    \n",
    "    # Apply Notch Filter\n",
    "    b, a = iirnotch(w0=notch_freq/(sfreq/2), Q=30)\n",
    "    filtered_notched = lfilter(b, a, filtered, axis=-1)\n",
    "    \n",
    "    # ICA for artifact removal (Example Steps)\n",
    "    # 1. Create MNE Raw object\n",
    "    ch_names = ['EEG' + str(i+1) for i in range(filtered_notched.shape[0])]\n",
    "    info = mne.create_info(ch_names=ch_names, sfreq=sfreq, ch_types='eeg')\n",
    "    raw = mne.io.RawArray(filtered_notched, info)\n",
    "\n",
    "    # 2. Fit ICA\n",
    "    ica = ICA(n_components=min(8, data.shape[0]), random_state=97)  # Adjusted n_components\n",
    "    ica.fit(raw)\n",
    "\n",
    "    # Note: Manual component selection for artifact rejection is recommended here.\n",
    "    # ica.plot_components()\n",
    "    # ica.exclude = [bad_components]  # Specify bad components to exclude\n",
    "    # ica.apply(raw)\n",
    "\n",
    "    return raw.get_data()  # This returns the processed data as a NumPy array\n",
    "\n",
    "# Usage example:\n",
    "# If your data is in a DataFrame `df` and `sfreq` is the sampling frequency\n",
    "# processed_data = preprocess_eeg(df, sfreq=256)\n",
    "\n",
    "df = preprocess_eeg(df.iloc[:,:8].transpose(), 250)\n"
   ]
  },
  {
   "cell_type": "code",
   "execution_count": null,
   "metadata": {},
   "outputs": [],
   "source": [
    "df.shape"
   ]
  },
  {
   "cell_type": "code",
   "execution_count": null,
   "metadata": {},
   "outputs": [],
   "source": [
    "plt.plot(df[0][300:])"
   ]
  },
  {
   "cell_type": "code",
   "execution_count": null,
   "metadata": {},
   "outputs": [],
   "source": [
    "import pandas as pd\n",
    "import numpy as np\n",
    "from scipy.signal import butter, sosfilt, sosfreqz, iirnotch, lfilter\n",
    "\n",
    "def butter_bandpass(lowcut, highcut, fs, order=4):\n",
    "    nyq = 0.5 * fs\n",
    "    low = lowcut / nyq\n",
    "    high = highcut / nyq\n",
    "    sos = butter(order, [low, high], btype='band', output='sos')\n",
    "    return sos\n",
    "\n",
    "def apply_notch_filter(data, fs, freq, quality=30):\n",
    "    nyq = 0.5 * fs\n",
    "    w0 = freq / nyq\n",
    "    b, a = iirnotch(w0, quality)\n",
    "    y = lfilter(b, a, data)\n",
    "    return y\n",
    "\n",
    "# Your DataFrame (df) goes here\n",
    "# Assuming df is your DataFrame and fs is your sampling rate\n",
    "fs = 250  # Example sampling rate, replace with your actual sampling rate\n",
    "lowcut = 0.5\n",
    "highcut = 30\n",
    "\n",
    "# Applying the bandpass filter to the first 8 columns\n",
    "sos = butter_bandpass(lowcut, highcut, fs)\n",
    "df.iloc[:, :8] = df.iloc[:, :8].apply(lambda x: sosfilt(sos, x), axis=0)\n",
    "\n",
    "# Applying the notch filter at 50Hz to the already bandpass filtered data\n",
    "df.iloc[:, :8] = df.iloc[:, :8].apply(lambda x: apply_notch_filter(x, fs, 50), axis=0)\n",
    "\n",
    "# Now df contains the first 8 columns filtered according to your specifications\n"
   ]
  },
  {
   "cell_type": "code",
   "execution_count": null,
   "metadata": {},
   "outputs": [],
   "source": [
    "df[df.columns[1]]"
   ]
  },
  {
   "cell_type": "code",
   "execution_count": null,
   "metadata": {},
   "outputs": [],
   "source": [
    "df.describe()"
   ]
  },
  {
   "cell_type": "code",
   "execution_count": null,
   "metadata": {},
   "outputs": [],
   "source": [
    "for i in range(8):\n",
    "    fig, ax = plt.subplots(figsize=(20,8))\n",
    "    ax.plot(df[df.columns[i]].iloc[:1000])"
   ]
  },
  {
   "cell_type": "code",
   "execution_count": null,
   "metadata": {},
   "outputs": [],
   "source": [
    "means = []\n",
    "\n",
    "for i in range(1250):\n",
    "    vals = []\n",
    "    for j in range(8):\n",
    "        vals.extend(df[df.Counter == i][df.columns[j]].values)\n",
    "    # print(vals)\n",
    "    means.append(np.mean(np.array(vals)))\n",
    "    "
   ]
  },
  {
   "cell_type": "code",
   "execution_count": null,
   "metadata": {},
   "outputs": [],
   "source": [
    "import matplotlib.pyplot as plt\n",
    "\n",
    "n = means[:]\n",
    "\n",
    "# Create an index for each value (assuming you want to plot them in the order they appear)\n",
    "indexes = range(len(n))\n",
    "\n",
    "# Plotting the bar graph\n",
    "plt.figure(figsize=(20, 8))  # Optional: Adjust figure size\n",
    "plt.bar(indexes, n)\n",
    "\n",
    "# Optionally, you can customize the ticks on the x-axis to show meaningful labels or simply the indexes\n",
    "plt.xticks(indexes, [f'Item {i+1}' for i in indexes])\n",
    "\n",
    "plt.xlabel('Item')  # Customize with your actual label\n",
    "plt.ylabel('Value')  # Customize with your actual label\n",
    "plt.title('Bar Graph of Values')  # Customize with your actual title\n",
    "plt.show()\n"
   ]
  },
  {
   "cell_type": "code",
   "execution_count": null,
   "metadata": {},
   "outputs": [],
   "source": [
    "df.info()"
   ]
  },
  {
   "cell_type": "code",
   "execution_count": null,
   "metadata": {},
   "outputs": [],
   "source": [
    "df_excludeStart = df[df[\" State\"] == \"Right\"]#df[df[\" State\"] == \"Up\"]#[df['Counter'] >= 20]\n",
    "df_excludeStart"
   ]
  },
  {
   "cell_type": "code",
   "execution_count": null,
   "metadata": {},
   "outputs": [],
   "source": [
    "df_excludeStart.describe()"
   ]
  },
  {
   "cell_type": "code",
   "execution_count": null,
   "metadata": {},
   "outputs": [],
   "source": [
    "for i in range(8):\n",
    "    fig, ax = plt.subplots(figsize=(20,8))\n",
    "    ax.plot(df_excludeStart[df_excludeStart.columns[i]].iloc[:4000])"
   ]
  },
  {
   "cell_type": "markdown",
   "metadata": {},
   "source": []
  },
  {
   "cell_type": "code",
   "execution_count": null,
   "metadata": {},
   "outputs": [],
   "source": [
    "# Open the file in binary mode\n",
    "with open('data (5).bin', 'rb') as f:\n",
    "    # Read the data into a NumPy array\n",
    "    array = np.fromfile(f, dtype=np.float32)  # Change dtype according to your data"
   ]
  },
  {
   "cell_type": "code",
   "execution_count": null,
   "metadata": {},
   "outputs": [],
   "source": [
    "array.shape"
   ]
  },
  {
   "cell_type": "code",
   "execution_count": null,
   "metadata": {},
   "outputs": [],
   "source": [
    "array = array.reshape(-1,17)\n",
    "array.shape"
   ]
  },
  {
   "cell_type": "code",
   "execution_count": null,
   "metadata": {},
   "outputs": [],
   "source": [
    "array = pd.DataFrame(array)"
   ]
  },
  {
   "cell_type": "code",
   "execution_count": null,
   "metadata": {},
   "outputs": [],
   "source": [
    "array"
   ]
  },
  {
   "cell_type": "code",
   "execution_count": null,
   "metadata": {},
   "outputs": [],
   "source": [
    "array.describe()"
   ]
  },
  {
   "cell_type": "code",
   "execution_count": null,
   "metadata": {},
   "outputs": [],
   "source": [
    "plt.plot(array[array.columns[8]])"
   ]
  },
  {
   "cell_type": "code",
   "execution_count": null,
   "metadata": {},
   "outputs": [],
   "source": []
  }
 ],
 "metadata": {
  "kernelspec": {
   "display_name": "Python 3",
   "language": "python",
   "name": "python3"
  },
  "language_info": {
   "codemirror_mode": {
    "name": "ipython",
    "version": 3
   },
   "file_extension": ".py",
   "mimetype": "text/x-python",
   "name": "python",
   "nbconvert_exporter": "python",
   "pygments_lexer": "ipython3",
   "version": "3.11.8"
  }
 },
 "nbformat": 4,
 "nbformat_minor": 2
}
